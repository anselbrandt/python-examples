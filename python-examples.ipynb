{
 "cells": [
  {
   "cell_type": "code",
   "execution_count": 39,
   "metadata": {},
   "outputs": [
    {
     "data": {
      "text/plain": [
       "True"
      ]
     },
     "execution_count": 39,
     "metadata": {},
     "output_type": "execute_result"
    }
   ],
   "source": [
    "import requests\n",
    "import urllib.parse\n",
    "import os\n",
    "from dotenv import load_dotenv\n",
    "load_dotenv()"
   ]
  },
  {
   "cell_type": "code",
   "execution_count": 47,
   "metadata": {},
   "outputs": [],
   "source": [
    "location = \"Vancouver Art Gallery\"\n",
    "encoded = urllib.parse.quote(location)\n",
    "url = 'https://api.mapbox.com/geocoding/v5/mapbox.places/%s.json' % encoded\n",
    "token = os.environ.get('MAPBOX_ACCESS_TOKEN')\n",
    "params = {'access_token':token}"
   ]
  },
  {
   "cell_type": "code",
   "execution_count": 48,
   "metadata": {},
   "outputs": [
    {
     "name": "stdout",
     "output_type": "stream",
     "text": [
      "Vancouver Art Gallery, 750 Hornby St., Vancouver, British Columbia V6C 1P7, Canada\n"
     ]
    }
   ],
   "source": [
    "req = requests.get(url, params)\n",
    "data = req.json()\n",
    "print(data[\"features\"][0]['place_name'])"
   ]
  }
 ],
 "metadata": {
  "kernelspec": {
   "display_name": ".venv",
   "language": "python",
   "name": "python3"
  },
  "language_info": {
   "codemirror_mode": {
    "name": "ipython",
    "version": 3
   },
   "file_extension": ".py",
   "mimetype": "text/x-python",
   "name": "python",
   "nbconvert_exporter": "python",
   "pygments_lexer": "ipython3",
   "version": "3.11.6"
  }
 },
 "nbformat": 4,
 "nbformat_minor": 2
}
